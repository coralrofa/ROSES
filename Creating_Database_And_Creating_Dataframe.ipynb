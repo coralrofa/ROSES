{
 "cells": [
  {
   "cell_type": "code",
   "execution_count": null,
   "id": "da4e32c3",
   "metadata": {},
   "outputs": [],
   "source": [
    "# Turn dataframe into database"
   ]
  },
  {
   "cell_type": "code",
   "execution_count": null,
   "id": "0cb64963",
   "metadata": {},
   "outputs": [],
   "source": [
    "import sqlite3\n",
    "import pandas as pd"
   ]
  },
  {
   "cell_type": "code",
   "execution_count": null,
   "id": "bd6e39ae",
   "metadata": {},
   "outputs": [],
   "source": [
    "con = sqlite3.connect(\"employees_df\")\n",
    "cur = con.cursor()"
   ]
  },
  {
   "cell_type": "code",
   "execution_count": null,
   "id": "ec437b9c",
   "metadata": {
    "scrolled": true
   },
   "outputs": [],
   "source": [
    "employees = pd.read_csv(\"Resources/Employee.csv\")\n",
    "employees['EmployeeIndex'] = employees.index\n",
    "employees"
   ]
  },
  {
   "cell_type": "code",
   "execution_count": null,
   "id": "6d0ed1f0",
   "metadata": {},
   "outputs": [],
   "source": [
    "predicated_df = employees[['EmployeeIndex', 'LeaveOrNot']]"
   ]
  },
  {
   "cell_type": "code",
   "execution_count": null,
   "id": "1a9d0c37",
   "metadata": {},
   "outputs": [],
   "source": [
    "cur.execute('CREATE TABLE IF NOT EXISTS Predicated (EmployeeIndex INTEGER, LeaveOrNot INTEGER)')\n",
    "con.commit()"
   ]
  },
  {
   "cell_type": "code",
   "execution_count": null,
   "id": "58ca9eff",
   "metadata": {},
   "outputs": [],
   "source": [
    "predicated_df.to_sql('Predicated', con, if_exists='replace', index = False)"
   ]
  },
  {
   "cell_type": "code",
   "execution_count": null,
   "id": "ac927a6b",
   "metadata": {},
   "outputs": [],
   "source": [
    "cur.execute('''  \n",
    "SELECT * FROM Predicated\n",
    "          ''')"
   ]
  },
  {
   "cell_type": "code",
   "execution_count": null,
   "id": "40f91796",
   "metadata": {},
   "outputs": [],
   "source": [
    "features_df = employees[['EmployeeIndex', 'Education', 'JoiningYear', 'City', 'PaymentTier', 'Age', 'Gender', 'EverBenched', 'ExperienceInCurrentDomain']]"
   ]
  },
  {
   "cell_type": "code",
   "execution_count": null,
   "id": "7b8a7712",
   "metadata": {},
   "outputs": [],
   "source": [
    "cur.execute('CREATE TABLE IF NOT EXISTS Features (EmployeeIndex INTEGER, Education TEXT, JoiningYear TEXT, City TEXT, PaymentTier INTEGER, Age INTEGER, Gender TEXT, EverBenched TEXT, ExperienceInCurrentDomain INTEGER)')\n",
    "con.commit()"
   ]
  },
  {
   "cell_type": "code",
   "execution_count": null,
   "id": "746dde43",
   "metadata": {},
   "outputs": [],
   "source": [
    "features_df.to_sql('Features', con, if_exists='replace', index = False)"
   ]
  },
  {
   "cell_type": "code",
   "execution_count": null,
   "id": "4b33c7ed",
   "metadata": {},
   "outputs": [],
   "source": [
    "cur.execute('''  \n",
    "SELECT * FROM Features\n",
    "          ''')"
   ]
  },
  {
   "cell_type": "code",
   "execution_count": null,
   "id": "e6a6b1ea",
   "metadata": {},
   "outputs": [],
   "source": [
    "# To turn database into dataframe"
   ]
  },
  {
   "cell_type": "code",
   "execution_count": null,
   "id": "708a2e23",
   "metadata": {},
   "outputs": [],
   "source": [
    "import sqlite3\n",
    "import pandas as pd"
   ]
  },
  {
   "cell_type": "code",
   "execution_count": null,
   "id": "30d554a5",
   "metadata": {},
   "outputs": [],
   "source": [
    "con = sqlite3.connect('employees_df')\n",
    "cur = con.cursor()"
   ]
  },
  {
   "cell_type": "code",
   "execution_count": null,
   "id": "002ca153",
   "metadata": {},
   "outputs": [],
   "source": [
    "join = '''SELECT Education, JoiningYear, City, PaymentTier, Age, Gender, EverBenched, ExperienceInCurrentDomain\n",
    "FROM Features\n",
    "INNER JOIN Predicated\n",
    "ON Features.EmployeeIndex = Predicated.EmployeeIndex;'''"
   ]
  },
  {
   "cell_type": "code",
   "execution_count": null,
   "id": "59a17ed3",
   "metadata": {},
   "outputs": [],
   "source": [
    "cur.execute('''CREATE TABLE EMPLOYEES as\n",
    "SELECT * from FEATURES\n",
    "JOIN Predicated\n",
    "ON Features.EmployeeIndex = Predicated.EmployeeIndex; ''')\n",
    "con.commit()"
   ]
  },
  {
   "cell_type": "code",
   "execution_count": null,
   "id": "371ba255",
   "metadata": {},
   "outputs": [],
   "source": [
    "df = pd.read_sql_query(\"SELECT * FROM Employees\", con)\n",
    "df = df.drop(columns=['EmployeeIndex'])\n",
    "df"
   ]
  },
  {
   "cell_type": "code",
   "execution_count": null,
   "id": "5e6477ab",
   "metadata": {},
   "outputs": [],
   "source": []
  }
 ],
 "metadata": {
  "kernelspec": {
   "display_name": "PythonData",
   "language": "python",
   "name": "pythondata"
  },
  "language_info": {
   "codemirror_mode": {
    "name": "ipython",
    "version": 3
   },
   "file_extension": ".py",
   "mimetype": "text/x-python",
   "name": "python",
   "nbconvert_exporter": "python",
   "pygments_lexer": "ipython3",
   "version": "3.7.13"
  }
 },
 "nbformat": 4,
 "nbformat_minor": 5
}
