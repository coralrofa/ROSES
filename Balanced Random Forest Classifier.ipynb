{
 "cells": [
  {
   "cell_type": "code",
   "execution_count": null,
   "id": "47a07a13",
   "metadata": {},
   "outputs": [],
   "source": [
    "import warnings\n",
    "warnings.filterwarnings('ignore')\n",
    "\n",
    "import numpy as np\n",
    "import sqlite3\n",
    "import pandas as pd\n",
    "from pathlib import Path\n",
    "from collections import Counter\n",
    "\n",
    "from sklearn.metrics import balanced_accuracy_score\n",
    "from sklearn.metrics import confusion_matrix\n",
    "from imblearn.metrics import classification_report_imbalanced\n",
    "from sklearn.ensemble import RandomForestClassifier"
   ]
  },
  {
   "cell_type": "code",
   "execution_count": null,
   "id": "1fc49cd7",
   "metadata": {},
   "outputs": [],
   "source": [
    "# connect to database\n",
    "\n",
    "con = sqlite3.connect(\"employees_df\")\n",
    "cur = con.cursor()"
   ]
  },
  {
   "cell_type": "code",
   "execution_count": null,
   "id": "2e3bc394",
   "metadata": {},
   "outputs": [],
   "source": [
    "employees = pd.read_csv(\"Resources/Employee.csv\")\n",
    "employees['EmployeeIndex'] = employees.index\n",
    "employees"
   ]
  },
  {
   "cell_type": "code",
   "execution_count": null,
   "id": "e15736ca",
   "metadata": {},
   "outputs": [],
   "source": [
    "predicated_df = employees[['EmployeeIndex', 'LeaveOrNot']]\n",
    "\n",
    "cur.execute('CREATE TABLE IF NOT EXISTS Predicated (EmployeeIndex INTEGER, LeaveOrNot INTEGER)')\n",
    "con.commit()\n",
    "\n",
    "predicated_df.to_sql('Predicated', con, if_exists='replace', index = False)\n",
    "\n",
    "cur.execute('''  \n",
    "SELECT * FROM Predicated\n",
    "          ''')"
   ]
  },
  {
   "cell_type": "code",
   "execution_count": null,
   "id": "ac882c08",
   "metadata": {},
   "outputs": [],
   "source": [
    "features_df = employees[['EmployeeIndex', 'Education', 'JoiningYear', 'City', 'PaymentTier', 'Age', 'Gender', 'EverBenched', 'ExperienceInCurrentDomain']]\n",
    "\n",
    "cur.execute('CREATE TABLE IF NOT EXISTS Features (EmployeeIndex INTEGER, Education TEXT, JoiningYear TEXT, City TEXT, PaymentTier INTEGER, Age INTEGER, Gender TEXT, EverBenched TEXT, ExperienceInCurrentDomain INTEGER)')\n",
    "con.commit()\n",
    "\n",
    "features_df.to_sql('Features', con, if_exists='replace', index = False)\n",
    "\n",
    "cur.execute('''  \n",
    "SELECT * FROM Features\n",
    "          ''')\n",
    "con.commit()"
   ]
  },
  {
   "cell_type": "code",
   "execution_count": null,
   "id": "e83125ee",
   "metadata": {},
   "outputs": [],
   "source": [
    "con = sqlite3.connect('employees_df')\n",
    "cur = con.cursor()"
   ]
  },
  {
   "cell_type": "code",
   "execution_count": null,
   "id": "5a3ad4b4",
   "metadata": {},
   "outputs": [],
   "source": [
    "# To turn database into dataframe\n",
    "\n",
    "cur.execute('''CREATE TABLE EMPLOYEES as\n",
    "SELECT * from FEATURES\n",
    "JOIN Predicated\n",
    "ON Features.EmployeeIndex = Predicated.EmployeeIndex; ''')\n",
    "con.commit()"
   ]
  },
  {
   "cell_type": "code",
   "execution_count": null,
   "id": "c1a8fb28",
   "metadata": {},
   "outputs": [],
   "source": [
    "df = pd.read_sql_query(\"SELECT * FROM Employees\", con)\n",
    "employee_data_df = df.drop(['EmployeeIndex:1', 'EmployeeIndex'], axis=1)\n",
    "employee_data_df"
   ]
  },
  {
   "cell_type": "code",
   "execution_count": null,
   "id": "c66c6b98",
   "metadata": {},
   "outputs": [],
   "source": [
    "employee_data_df.info()"
   ]
  },
  {
   "cell_type": "code",
   "execution_count": null,
   "id": "293a7540",
   "metadata": {},
   "outputs": [],
   "source": [
    "columns = [\"Education\", \"JoiningYear\", \"City\", \"PaymentTier\", \"Age\", \"Gender\", \"EverBenched\", \"ExperienceInCurrentDomain\"\n",
    "]\n",
    "\n",
    "target = [\"LeaveOrNot\"]"
   ]
  },
  {
   "cell_type": "code",
   "execution_count": null,
   "id": "89f0a98a",
   "metadata": {},
   "outputs": [],
   "source": [
    "# Remove the `LeaveOrNot` status\n",
    "LeaveOrNot_mask = employee_data_df['LeaveOrNot'] != 'LeaveOrNot'\n",
    "employee_df = employee_data_df.loc[LeaveOrNot_mask]"
   ]
  },
  {
   "cell_type": "code",
   "execution_count": null,
   "id": "6a6558cd",
   "metadata": {},
   "outputs": [],
   "source": [
    "# Create our features\n",
    "# Create the training variables by converting the string values into numerical ones using the get_dummies() method.\n",
    "X = pd.get_dummies(employee_data_df, columns=[\"Education\", \"City\", \"Gender\", \"EverBenched\"]).drop(\"LeaveOrNot\", axis=1)\n",
    "\n",
    "\n",
    "# Create our target\n",
    "y =employee_data_df[\"LeaveOrNot\"]"
   ]
  },
  {
   "cell_type": "code",
   "execution_count": null,
   "id": "180f68c5",
   "metadata": {},
   "outputs": [],
   "source": [
    "X.describe()"
   ]
  },
  {
   "cell_type": "code",
   "execution_count": null,
   "id": "784d8804",
   "metadata": {},
   "outputs": [],
   "source": [
    "# Check the balance of our target values (1 = yes or 0 = no)\n",
    "y.value_counts()"
   ]
  },
  {
   "cell_type": "code",
   "execution_count": null,
   "id": "ab0bc21f",
   "metadata": {},
   "outputs": [],
   "source": [
    "from sklearn.model_selection import train_test_split\n",
    "X_train, X_test, y_train, y_test = train_test_split(X, \n",
    "                                                    y, \n",
    "                                                    random_state=1, \n",
    "                                                    stratify=y)\n",
    "Counter(y_train)"
   ]
  },
  {
   "cell_type": "code",
   "execution_count": null,
   "id": "0407438a",
   "metadata": {},
   "outputs": [],
   "source": [
    "X_train.shape"
   ]
  },
  {
   "cell_type": "code",
   "execution_count": null,
   "id": "655a64ec",
   "metadata": {},
   "outputs": [],
   "source": [
    "# Resample the training data with the BalancedRandomForestClassifier\n",
    "\n",
    "from imblearn.ensemble import BalancedRandomForestClassifier\n",
    "\n",
    "brfc = BalancedRandomForestClassifier(n_estimators =100, random_state=1)\n",
    "brfc.fit(X_train, y_train)"
   ]
  },
  {
   "cell_type": "code",
   "execution_count": null,
   "id": "2f3aa371",
   "metadata": {},
   "outputs": [],
   "source": [
    "# Calculated the balanced accuracy score\n",
    "from sklearn.metrics import balanced_accuracy_score\n",
    "y_pred = brfc.predict(X_test)\n",
    "balanced_accuracy_score(y_test, y_pred)"
   ]
  },
  {
   "cell_type": "code",
   "execution_count": null,
   "id": "9b862696",
   "metadata": {},
   "outputs": [],
   "source": [
    "# Calculate confusion matrix.\n",
    "cm = confusion_matrix(y_test, y_pred)\n",
    "cm"
   ]
  },
  {
   "cell_type": "code",
   "execution_count": null,
   "id": "4d534a00",
   "metadata": {},
   "outputs": [],
   "source": [
    "# imbalanced classification report\n",
    "\n",
    "print( classification_report_imbalanced(y_test, y_pred))"
   ]
  },
  {
   "cell_type": "code",
   "execution_count": null,
   "id": "5d997428",
   "metadata": {},
   "outputs": [],
   "source": [
    "# List the features sorted in descending order by feature importance\n",
    "importances = brfc.feature_importances_\n",
    "sorted(zip(brfc.feature_importances_, X.columns), reverse=True)"
   ]
  },
  {
   "cell_type": "code",
   "execution_count": null,
   "id": "f3f51697",
   "metadata": {},
   "outputs": [],
   "source": [
    "print(f'Training Score: {brfc.score(X_train, y_train)}')\n",
    "print(f'Testing Score: {brfc.score(X_test, y_test)}')"
   ]
  }
 ],
 "metadata": {
  "kernelspec": {
   "display_name": "PythonData",
   "language": "python",
   "name": "pythondata"
  },
  "language_info": {
   "codemirror_mode": {
    "name": "ipython",
    "version": 3
   },
   "file_extension": ".py",
   "mimetype": "text/x-python",
   "name": "python",
   "nbconvert_exporter": "python",
   "pygments_lexer": "ipython3",
   "version": "3.7.13"
  }
 },
 "nbformat": 4,
 "nbformat_minor": 5
}
